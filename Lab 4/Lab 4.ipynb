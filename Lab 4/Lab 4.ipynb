{
  "cells": [
    {
      "cell_type": "markdown",
      "metadata": {},
      "source": [
        "# TP4 Deep Learning NLP : \n",
        "> Ce TP est effectué par :\n",
        "**Sandra Mourali**- **Anas Chaibi** - **Salma Ghabri** - **Aziz Bellaaj** - **Louay Badri**\n",
        "---"
      ]
    },
    {
      "cell_type": "markdown",
      "metadata": {
        "id": "1kLUiEn80W-4"
      },
      "source": [
        "# Importation des bibliothèques\n"
      ]
    },
    {
      "cell_type": "code",
      "execution_count": null,
      "metadata": {
        "execution": {
          "iopub.execute_input": "2024-05-06T12:53:16.390364Z",
          "iopub.status.busy": "2024-05-06T12:53:16.389338Z",
          "iopub.status.idle": "2024-05-06T12:53:30.920327Z",
          "shell.execute_reply": "2024-05-06T12:53:30.919534Z",
          "shell.execute_reply.started": "2024-05-06T12:53:16.390323Z"
        },
        "id": "6BeVkrG20W-7",
        "trusted": true
      },
      "outputs": [],
      "source": [
        "import pandas as pd\n",
        "import numpy as np\n",
        "import re\n",
        "import nltk\n",
        "import tensorflow\n",
        "from nltk.corpus import stopwords\n",
        "from numpy import array\n",
        "from tensorflow.keras.preprocessing.text import one_hot\n",
        "\n",
        "# from keras_preprocessing.sequence import pad_sequences\n",
        "from keras.models import Sequential\n",
        "\n",
        "# from keras.layers.core import Activation, Dropout, Dense\n",
        "from keras.utils import pad_sequences\n",
        "from keras.layers import Activation, Dropout, Dense\n",
        "from keras.layers import Flatten\n",
        "from keras.layers import Conv1D\n",
        "from keras.layers import GlobalMaxPooling1D\n",
        "from keras.layers import LSTM, Embedding\n",
        "\n",
        "from sklearn.model_selection import train_test_split\n",
        "from tensorflow.keras.preprocessing.text import Tokenizer"
      ]
    },
    {
      "cell_type": "markdown",
      "metadata": {
        "id": "Ng_3MCSF0W--"
      },
      "source": [
        "# Importation du dataset\n"
      ]
    },
    {
      "cell_type": "code",
      "execution_count": null,
      "metadata": {
        "colab": {
          "base_uri": "https://localhost:8080/"
        },
        "execution": {
          "iopub.execute_input": "2024-05-06T12:53:30.923482Z",
          "iopub.status.busy": "2024-05-06T12:53:30.922508Z",
          "iopub.status.idle": "2024-05-06T12:53:33.153422Z",
          "shell.execute_reply": "2024-05-06T12:53:33.152444Z",
          "shell.execute_reply.started": "2024-05-06T12:53:30.923448Z"
        },
        "id": "YDnXOIcO0ZZG",
        "outputId": "79817ad2-89e5-48f9-a391-bf3c5d402f73",
        "trusted": true
      },
      "outputs": [],
      "source": [
        "!wget https://raw.githubusercontent.com/Ankit152/IMDB-sentiment-analysis/master/IMDB-Dataset.csv"
      ]
    },
    {
      "cell_type": "code",
      "execution_count": null,
      "metadata": {
        "execution": {
          "iopub.execute_input": "2024-05-06T12:53:33.155086Z",
          "iopub.status.busy": "2024-05-06T12:53:33.154795Z",
          "iopub.status.idle": "2024-05-06T12:53:33.77952Z",
          "shell.execute_reply": "2024-05-06T12:53:33.77869Z",
          "shell.execute_reply.started": "2024-05-06T12:53:33.155056Z"
        },
        "id": "DBrefONS0W-_",
        "trusted": true
      },
      "outputs": [],
      "source": [
        "imdb = pd.read_csv(\"IMDB-Dataset.csv\")"
      ]
    },
    {
      "cell_type": "code",
      "execution_count": null,
      "metadata": {
        "colab": {
          "base_uri": "https://localhost:8080/",
          "height": 386
        },
        "execution": {
          "iopub.execute_input": "2024-05-06T12:53:33.780951Z",
          "iopub.status.busy": "2024-05-06T12:53:33.78066Z",
          "iopub.status.idle": "2024-05-06T12:53:33.831587Z",
          "shell.execute_reply": "2024-05-06T12:53:33.830764Z",
          "shell.execute_reply.started": "2024-05-06T12:53:33.780925Z"
        },
        "id": "X4Ee96wg0W-_",
        "outputId": "2a559c6c-cf02-4de3-ae4f-87b602fdd8ec",
        "trusted": true
      },
      "outputs": [],
      "source": [
        "imdb.info()\n",
        "imdb.head()"
      ]
    },
    {
      "cell_type": "code",
      "execution_count": null,
      "metadata": {
        "colab": {
          "base_uri": "https://localhost:8080/",
          "height": 584
        },
        "execution": {
          "iopub.execute_input": "2024-05-06T12:53:33.834315Z",
          "iopub.status.busy": "2024-05-06T12:53:33.834037Z",
          "iopub.status.idle": "2024-05-06T12:53:34.313931Z",
          "shell.execute_reply": "2024-05-06T12:53:34.313079Z",
          "shell.execute_reply.started": "2024-05-06T12:53:33.834292Z"
        },
        "id": "RdJdZckY0W_B",
        "outputId": "aa0b03dc-65a5-4ebf-9635-d65f3b5100b4",
        "trusted": true
      },
      "outputs": [],
      "source": [
        "import seaborn as sns\n",
        "import matplotlib.pyplot as plt\n",
        "\n",
        "plt.figure(figsize=(8, 6))\n",
        "sns.countplot(x=\"sentiment\", data=imdb)\n",
        "plt.title(\"Class Distribution\")\n",
        "plt.xlabel(\"Sentiment\")\n",
        "plt.ylabel(\"Count\")\n",
        "plt.show()"
      ]
    },
    {
      "cell_type": "code",
      "execution_count": null,
      "metadata": {
        "colab": {
          "base_uri": "https://localhost:8080/"
        },
        "execution": {
          "iopub.execute_input": "2024-05-06T12:53:34.315302Z",
          "iopub.status.busy": "2024-05-06T12:53:34.315026Z",
          "iopub.status.idle": "2024-05-06T12:53:34.322317Z",
          "shell.execute_reply": "2024-05-06T12:53:34.321273Z",
          "shell.execute_reply.started": "2024-05-06T12:53:34.315277Z"
        },
        "id": "RsqOexcr0W_C",
        "outputId": "012ada1b-2ac2-4635-9e88-05ee3230e7e3",
        "trusted": true
      },
      "outputs": [],
      "source": [
        "imdb.iloc[3]"
      ]
    },
    {
      "cell_type": "markdown",
      "metadata": {
        "id": "3cP-jonf0W_D"
      },
      "source": [
        "# Prétraitement\n"
      ]
    },
    {
      "cell_type": "markdown",
      "metadata": {
        "id": "5w37cwXc0W_E"
      },
      "source": [
        "## Nettoyer les données textuelles\n"
      ]
    },
    {
      "cell_type": "code",
      "execution_count": null,
      "metadata": {
        "execution": {
          "iopub.execute_input": "2024-05-06T12:53:34.323892Z",
          "iopub.status.busy": "2024-05-06T12:53:34.323567Z",
          "iopub.status.idle": "2024-05-06T12:53:34.332041Z",
          "shell.execute_reply": "2024-05-06T12:53:34.331176Z",
          "shell.execute_reply.started": "2024-05-06T12:53:34.323865Z"
        },
        "id": "bvInT2BE0W_E",
        "trusted": true
      },
      "outputs": [],
      "source": [
        "def preprocess_text(sen):\n",
        "    # Removing html tags\n",
        "    sentence = remove_tags(sen)\n",
        "    # Remove punctuations and numbers\n",
        "    sentence = re.sub(\"[^a-zA-Z]\", \" \", sentence)\n",
        "    # Single character removal\n",
        "    sentence = re.sub(r\"\\s+[a-zA-Z]\\s+\", \" \", sentence)\n",
        "    # Removing multiple spaces\n",
        "    sentence = re.sub(r\"\\s+\", \" \", sentence)\n",
        "    return sentence\n",
        "\n",
        "\n",
        "TAG_RE = re.compile(r\"<[^>]+>\")\n",
        "\n",
        "\n",
        "def remove_tags(text):\n",
        "    return TAG_RE.sub(\"\", text)"
      ]
    },
    {
      "cell_type": "code",
      "execution_count": null,
      "metadata": {
        "execution": {
          "iopub.execute_input": "2024-05-06T12:53:34.333306Z",
          "iopub.status.busy": "2024-05-06T12:53:34.333055Z",
          "iopub.status.idle": "2024-05-06T12:53:48.545464Z",
          "shell.execute_reply": "2024-05-06T12:53:48.544702Z",
          "shell.execute_reply.started": "2024-05-06T12:53:34.333283Z"
        },
        "id": "j8F4gfFB0W_F",
        "trusted": true
      },
      "outputs": [],
      "source": [
        "X = []\n",
        "sentences = list(imdb[\"review\"])\n",
        "for sen in sentences:\n",
        "    X.append(preprocess_text(sen))"
      ]
    },
    {
      "cell_type": "code",
      "execution_count": null,
      "metadata": {
        "colab": {
          "base_uri": "https://localhost:8080/",
          "height": 126
        },
        "execution": {
          "iopub.execute_input": "2024-05-06T12:53:48.54679Z",
          "iopub.status.busy": "2024-05-06T12:53:48.546495Z",
          "iopub.status.idle": "2024-05-06T12:53:48.552458Z",
          "shell.execute_reply": "2024-05-06T12:53:48.551582Z",
          "shell.execute_reply.started": "2024-05-06T12:53:48.546765Z"
        },
        "id": "JoshMHgN0W_G",
        "outputId": "7ef74519-d142-4df1-b403-523e6f27daf5",
        "trusted": true
      },
      "outputs": [],
      "source": [
        "X[3]"
      ]
    },
    {
      "cell_type": "markdown",
      "metadata": {
        "id": "jlIKQA5v0W_G"
      },
      "source": [
        "## Convertir les étiquettes en chiffres\n"
      ]
    },
    {
      "cell_type": "code",
      "execution_count": null,
      "metadata": {
        "execution": {
          "iopub.execute_input": "2024-05-06T12:53:48.553818Z",
          "iopub.status.busy": "2024-05-06T12:53:48.553528Z",
          "iopub.status.idle": "2024-05-06T12:53:48.597973Z",
          "shell.execute_reply": "2024-05-06T12:53:48.59713Z",
          "shell.execute_reply.started": "2024-05-06T12:53:48.553794Z"
        },
        "id": "hqUQR-B50W_H",
        "trusted": true
      },
      "outputs": [],
      "source": [
        "y = imdb[\"sentiment\"]\n",
        "y = np.array(list(map(lambda x: 1 if x == \"positive\" else 0, y)))"
      ]
    },
    {
      "cell_type": "markdown",
      "metadata": {
        "id": "pCfw1-kS0W_I"
      },
      "source": [
        "## Diviser le dataset en training et test sets\n"
      ]
    },
    {
      "cell_type": "code",
      "execution_count": null,
      "metadata": {
        "execution": {
          "iopub.execute_input": "2024-05-06T12:53:48.599834Z",
          "iopub.status.busy": "2024-05-06T12:53:48.599227Z",
          "iopub.status.idle": "2024-05-06T12:53:48.62304Z",
          "shell.execute_reply": "2024-05-06T12:53:48.622189Z",
          "shell.execute_reply.started": "2024-05-06T12:53:48.599803Z"
        },
        "id": "hfc3JXuC0W_J",
        "trusted": true
      },
      "outputs": [],
      "source": [
        "X_train, X_test, y_train, y_test = train_test_split(\n",
        "    X, y, test_size=0.20, random_state=42\n",
        ")"
      ]
    },
    {
      "cell_type": "markdown",
      "metadata": {
        "id": "WAXDiha10W_J"
      },
      "source": [
        "# La couche de l’embedding\n"
      ]
    },
    {
      "cell_type": "markdown",
      "metadata": {
        "id": "4fXZ9Pcc0W_K"
      },
      "source": [
        "## Dictionnaire word-to-index\n"
      ]
    },
    {
      "cell_type": "code",
      "execution_count": null,
      "metadata": {
        "execution": {
          "iopub.execute_input": "2024-05-06T12:53:48.62432Z",
          "iopub.status.busy": "2024-05-06T12:53:48.624069Z",
          "iopub.status.idle": "2024-05-06T12:54:02.207495Z",
          "shell.execute_reply": "2024-05-06T12:54:02.206688Z",
          "shell.execute_reply.started": "2024-05-06T12:53:48.624298Z"
        },
        "id": "jsC5bsGf0W_L",
        "trusted": true
      },
      "outputs": [],
      "source": [
        "tokenizer = Tokenizer(num_words=5000)  # top 5000 most frequent words\n",
        "tokenizer.fit_on_texts(X_train)\n",
        "X_train = tokenizer.texts_to_sequences(X_train)\n",
        "X_test = tokenizer.texts_to_sequences(X_test)"
      ]
    },
    {
      "cell_type": "code",
      "execution_count": null,
      "metadata": {
        "colab": {
          "base_uri": "https://localhost:8080/"
        },
        "execution": {
          "iopub.execute_input": "2024-05-06T12:54:02.208806Z",
          "iopub.status.busy": "2024-05-06T12:54:02.208529Z",
          "iopub.status.idle": "2024-05-06T12:54:02.21744Z",
          "shell.execute_reply": "2024-05-06T12:54:02.216396Z",
          "shell.execute_reply.started": "2024-05-06T12:54:02.208782Z"
        },
        "id": "eDG1a1c60W_L",
        "outputId": "26f9d655-333e-4db9-8d5b-5633002a1254",
        "trusted": true
      },
      "outputs": [],
      "source": [
        "X_train[3]"
      ]
    },
    {
      "cell_type": "markdown",
      "metadata": {
        "id": "DDNZcrdO0W_M"
      },
      "source": [
        "La taille de chaque liste est différente car les phrases possèdent des tailles différentes.\n",
        "Le script ci-dessous trouve la taille du vocabulaire, puis effectue un remplissage sur\n",
        "l'ensemble d'entraînement et de test.\n"
      ]
    },
    {
      "cell_type": "code",
      "execution_count": null,
      "metadata": {
        "execution": {
          "iopub.execute_input": "2024-05-06T12:54:02.233131Z",
          "iopub.status.busy": "2024-05-06T12:54:02.232845Z",
          "iopub.status.idle": "2024-05-06T12:54:02.790878Z",
          "shell.execute_reply": "2024-05-06T12:54:02.790013Z",
          "shell.execute_reply.started": "2024-05-06T12:54:02.233106Z"
        },
        "id": "4YnZ3HHp0W_N",
        "trusted": true
      },
      "outputs": [],
      "source": [
        "# Adding 1 because of reserved 0 index\n",
        "vocab_size = len(tokenizer.word_index) + 1\n",
        "maxlen = 100\n",
        "X_train = pad_sequences(X_train, padding=\"post\", maxlen=maxlen)\n",
        "X_test = pad_sequences(X_test, padding=\"post\", maxlen=maxlen)"
      ]
    },
    {
      "cell_type": "code",
      "execution_count": null,
      "metadata": {
        "colab": {
          "base_uri": "https://localhost:8080/"
        },
        "execution": {
          "iopub.execute_input": "2024-05-06T12:54:02.792237Z",
          "iopub.status.busy": "2024-05-06T12:54:02.791951Z",
          "iopub.status.idle": "2024-05-06T12:54:02.798326Z",
          "shell.execute_reply": "2024-05-06T12:54:02.797473Z",
          "shell.execute_reply.started": "2024-05-06T12:54:02.792202Z"
        },
        "id": "cHi5T8bH0W_N",
        "outputId": "ffbdf927-f373-4359-e4b0-1ab724c68dc4",
        "trusted": true
      },
      "outputs": [],
      "source": [
        "vocab_size"
      ]
    },
    {
      "cell_type": "markdown",
      "metadata": {
        "id": "ZIOoDGy40W_O"
      },
      "source": [
        "Les listes ont la même longueur, c'est-à-dire 100. De plus, la variable vocabulary_size contient maintenant une valeur 92547, ce qui signifie que le corpus contient 92547 mots uniques.\n"
      ]
    },
    {
      "cell_type": "markdown",
      "metadata": {
        "id": "-oPQPN5r0W_P"
      },
      "source": [
        "## GloVe : Global Vectors for Word Representation\n"
      ]
    },
    {
      "cell_type": "markdown",
      "metadata": {
        "id": "23WYxH0T0W_P"
      },
      "source": [
        "Créons un dictionnaire qui contiendra des mots en tant que clés et leur liste d’embeddings correspondante en tant que valeurs.\n"
      ]
    },
    {
      "cell_type": "code",
      "execution_count": null,
      "metadata": {
        "colab": {
          "base_uri": "https://localhost:8080/"
        },
        "execution": {
          "iopub.status.busy": "2024-05-06T12:56:15.488287Z",
          "iopub.status.idle": "2024-05-06T12:56:15.488592Z",
          "shell.execute_reply": "2024-05-06T12:56:15.488455Z",
          "shell.execute_reply.started": "2024-05-06T12:56:15.488442Z"
        },
        "id": "JSEEZoo30W_Q",
        "outputId": "3dd019b6-2f7d-4310-a04d-ee157f98af79",
        "trusted": true
      },
      "outputs": [],
      "source": [
        "from numpy import array\n",
        "from numpy import asarray\n",
        "from numpy import zeros\n",
        "\n",
        "embeddings_dictionary = dict()\n",
        "glove_file = open(\"glove.6B.100d.txt\", encoding=\"utf8\")\n",
        "for i in range(5):\n",
        "    line = glove_file.readline()\n",
        "    print(line)\n",
        "for line in glove_file:\n",
        "    records = line.split()\n",
        "    word = records[0]\n",
        "    vector_dimensions = asarray(records[1:], dtype=\"float32\")\n",
        "    embeddings_dictionary[word] = vector_dimensions\n",
        "glove_file.close()"
      ]
    },
    {
      "cell_type": "markdown",
      "metadata": {
        "id": "d3HalDSt0W_R"
      },
      "source": [
        "Enfin, nous allons créer une matrice d’embeddings où chaque numéro de ligne\n",
        "correspondra à l'index du mot dans le corpus. La matrice aura 100 colonnes où chaque\n",
        "colonne contiendra les embeddings GloVe pour les mots de notre corpus.\n"
      ]
    },
    {
      "cell_type": "code",
      "execution_count": null,
      "metadata": {
        "execution": {
          "iopub.status.busy": "2024-05-06T12:56:15.489699Z",
          "iopub.status.idle": "2024-05-06T12:56:15.490001Z",
          "shell.execute_reply": "2024-05-06T12:56:15.489863Z",
          "shell.execute_reply.started": "2024-05-06T12:56:15.489851Z"
        },
        "id": "0jP4Bty60W_R",
        "trusted": true
      },
      "outputs": [],
      "source": [
        "embedding_matrix = zeros((vocab_size, 100))\n",
        "for word, index in tokenizer.word_index.items():\n",
        "    embedding_vector = embeddings_dictionary.get(word)\n",
        "    if embedding_vector is not None:\n",
        "        embedding_matrix[index] = embedding_vector"
      ]
    },
    {
      "cell_type": "code",
      "execution_count": null,
      "metadata": {
        "colab": {
          "base_uri": "https://localhost:8080/"
        },
        "execution": {
          "iopub.status.busy": "2024-05-06T12:56:15.491462Z",
          "iopub.status.idle": "2024-05-06T12:56:15.491818Z",
          "shell.execute_reply": "2024-05-06T12:56:15.491655Z",
          "shell.execute_reply.started": "2024-05-06T12:56:15.491626Z"
        },
        "id": "curgfSwh0W_S",
        "outputId": "93a4d7b4-3170-412f-99f4-69e7930e446b",
        "trusted": true
      },
      "outputs": [],
      "source": [
        "embedding_matrix[7]"
      ]
    },
    {
      "cell_type": "markdown",
      "metadata": {
        "id": "Idm7Wnou0W_S"
      },
      "source": [
        "# Modelisation\n"
      ]
    },
    {
      "cell_type": "markdown",
      "metadata": {
        "id": "oXCAdvjC0W_T"
      },
      "source": [
        "## A. Classification avec un simple réseau de neurones\n"
      ]
    },
    {
      "cell_type": "code",
      "execution_count": null,
      "metadata": {
        "colab": {
          "base_uri": "https://localhost:8080/"
        },
        "execution": {
          "iopub.status.busy": "2024-05-06T12:56:15.493381Z",
          "iopub.status.idle": "2024-05-06T12:56:15.493742Z",
          "shell.execute_reply": "2024-05-06T12:56:15.493559Z",
          "shell.execute_reply.started": "2024-05-06T12:56:15.493546Z"
        },
        "id": "cT_p_DpY0W_T",
        "outputId": "eb8b1c36-27ad-42a3-f343-c0d95799742b",
        "trusted": true
      },
      "outputs": [],
      "source": [
        "# from keras.models import Sequential\n",
        "# from keras.layers import Embedding, Flatten, Dense\n",
        "\n",
        "# Création du modèle séquentiel\n",
        "ann_model = Sequential()\n",
        "\n",
        "# Ajout de la couche d'embedding\n",
        "ann_model.add(\n",
        "    Embedding(\n",
        "        vocab_size,\n",
        "        100,\n",
        "        weights=[embedding_matrix],\n",
        "        input_length=maxlen,\n",
        "        trainable=False,\n",
        "    )\n",
        ")\n",
        "\n",
        "# Ajout de la couche Flatten\n",
        "ann_model.add(Flatten())\n",
        "\n",
        "# Ajout de la couche Dense\n",
        "ann_model.add(Dense(units=1, activation=\"sigmoid\"))\n",
        "\n",
        "# Compilation du modèle\n",
        "ann_model.compile(loss=\"binary_crossentropy\", optimizer=\"adam\", metrics=[\"acc\"])\n",
        "\n",
        "# Entraînement du modèle\n",
        "history = ann_model.fit(\n",
        "    X_train, y_train, epochs=6, batch_size=128, verbose=1, validation_split=0.2\n",
        ")"
      ]
    },
    {
      "cell_type": "code",
      "execution_count": null,
      "metadata": {
        "colab": {
          "base_uri": "https://localhost:8080/"
        },
        "execution": {
          "iopub.status.busy": "2024-05-06T12:56:15.495589Z",
          "iopub.status.idle": "2024-05-06T12:56:15.496042Z",
          "shell.execute_reply": "2024-05-06T12:56:15.495839Z",
          "shell.execute_reply.started": "2024-05-06T12:56:15.49582Z"
        },
        "id": "XJAeHm-_0W_U",
        "outputId": "fc2f9e83-9711-4f7a-c08d-0110f3421e42",
        "trusted": true
      },
      "outputs": [],
      "source": [
        "score = ann_model.evaluate(X_test, y_test, verbose=1)\n",
        "print(\"Test Score:\", score[0])\n",
        "print(\"Test Accuracy:\", score[1])"
      ]
    },
    {
      "cell_type": "code",
      "execution_count": null,
      "metadata": {
        "colab": {
          "base_uri": "https://localhost:8080/",
          "height": 947
        },
        "execution": {
          "iopub.status.busy": "2024-05-06T12:56:15.496945Z",
          "iopub.status.idle": "2024-05-06T12:56:15.497506Z",
          "shell.execute_reply": "2024-05-06T12:56:15.497165Z",
          "shell.execute_reply.started": "2024-05-06T12:56:15.497147Z"
        },
        "id": "MKMAWLHf0W_V",
        "outputId": "d525434e-dd08-4495-bcdf-5e8d3e5d6544",
        "trusted": true
      },
      "outputs": [],
      "source": [
        "plt.plot(history.history[\"acc\"])\n",
        "plt.plot(history.history[\"val_acc\"])\n",
        "plt.title(\"model accuracy\")\n",
        "plt.ylabel(\"accuracy\")\n",
        "plt.xlabel(\"epoch\")\n",
        "plt.legend([\"train\", \"test\"], loc=\"upper left\")\n",
        "plt.show()\n",
        "plt.plot(history.history[\"loss\"])\n",
        "plt.plot(history.history[\"val_loss\"])\n",
        "plt.title(\"model loss\")\n",
        "plt.ylabel(\"loss\")\n",
        "plt.xlabel(\"epoch\")\n",
        "plt.legend([\"train\", \"test\"], loc=\"upper left\")\n",
        "plt.show()"
      ]
    },
    {
      "cell_type": "markdown",
      "metadata": {
        "id": "NZ3a_ZSq0W_V"
      },
      "source": [
        "## B. Classification avec un réseau de neurones convolutionnel\n"
      ]
    },
    {
      "cell_type": "code",
      "execution_count": null,
      "metadata": {
        "colab": {
          "base_uri": "https://localhost:8080/"
        },
        "execution": {
          "iopub.status.busy": "2024-05-06T12:56:15.499099Z",
          "iopub.status.idle": "2024-05-06T12:56:15.499517Z",
          "shell.execute_reply": "2024-05-06T12:56:15.499318Z",
          "shell.execute_reply.started": "2024-05-06T12:56:15.499301Z"
        },
        "id": "vtHfIj8e0W_W",
        "outputId": "1c646c8d-9509-45db-962b-97c944435fc9",
        "trusted": true
      },
      "outputs": [],
      "source": [
        "from keras.layers import Conv1D, MaxPooling1D\n",
        "\n",
        "cnn_model = Sequential()\n",
        "\n",
        "cnn_model.add(\n",
        "    Embedding(vocab_size, 100, weights=[embedding_matrix], input_length=maxlen)\n",
        ")\n",
        "\n",
        "cnn_model.add(Conv1D(filters=128, kernel_size=5, activation=\"relu\"))\n",
        "\n",
        "cnn_model.add(MaxPooling1D())\n",
        "\n",
        "cnn_model.add(Flatten())\n",
        "\n",
        "cnn_model.add(Dense(units=1, activation=\"sigmoid\"))\n",
        "\n",
        "cnn_model.compile(loss=\"binary_crossentropy\", optimizer=\"adam\", metrics=[\"acc\"])\n",
        "\n",
        "history = cnn_model.fit(\n",
        "    X_train, y_train, epochs=6, batch_size=128, verbose=1, validation_split=0.2\n",
        ")"
      ]
    },
    {
      "cell_type": "code",
      "execution_count": null,
      "metadata": {
        "colab": {
          "base_uri": "https://localhost:8080/"
        },
        "execution": {
          "iopub.status.busy": "2024-05-06T12:56:15.500535Z",
          "iopub.status.idle": "2024-05-06T12:56:15.501361Z",
          "shell.execute_reply": "2024-05-06T12:56:15.50118Z",
          "shell.execute_reply.started": "2024-05-06T12:56:15.501161Z"
        },
        "id": "HFbXnRPk0W_X",
        "outputId": "66edabef-fdc0-42f3-aec3-05cbf2f1c8bd",
        "trusted": true
      },
      "outputs": [],
      "source": [
        "score = cnn_model.evaluate(X_test, y_test, verbose=1)\n",
        "print(\"Test Score:\", score[0])\n",
        "print(\"Test Accuracy:\", score[1])"
      ]
    },
    {
      "cell_type": "code",
      "execution_count": null,
      "metadata": {
        "colab": {
          "base_uri": "https://localhost:8080/",
          "height": 947
        },
        "execution": {
          "iopub.status.busy": "2024-05-06T12:56:15.503534Z",
          "iopub.status.idle": "2024-05-06T12:56:15.503869Z",
          "shell.execute_reply": "2024-05-06T12:56:15.503723Z",
          "shell.execute_reply.started": "2024-05-06T12:56:15.503709Z"
        },
        "id": "oFNMGQ0G0W_X",
        "outputId": "19c794a2-8bf3-409a-b4be-93e0abb9feec",
        "trusted": true
      },
      "outputs": [],
      "source": [
        "plt.plot(history.history[\"acc\"])\n",
        "plt.plot(history.history[\"val_acc\"])\n",
        "plt.title(\"model accuracy\")\n",
        "plt.ylabel(\"accuracy\")\n",
        "plt.xlabel(\"epoch\")\n",
        "plt.legend([\"train\", \"test\"], loc=\"upper left\")\n",
        "plt.show()\n",
        "plt.plot(history.history[\"loss\"])\n",
        "plt.plot(history.history[\"val_loss\"])\n",
        "plt.title(\"model loss\")\n",
        "plt.ylabel(\"loss\")\n",
        "plt.xlabel(\"epoch\")\n",
        "plt.legend([\"train\", \"test\"], loc=\"upper left\")\n",
        "plt.show()"
      ]
    },
    {
      "cell_type": "markdown",
      "metadata": {
        "id": "BPBiOEc30W_a"
      },
      "source": [
        "## C. Classification avec un réseau de neurones récurrent (LSTM)\n"
      ]
    },
    {
      "cell_type": "code",
      "execution_count": null,
      "metadata": {
        "colab": {
          "base_uri": "https://localhost:8080/"
        },
        "execution": {
          "iopub.status.busy": "2024-05-06T12:56:15.50501Z",
          "iopub.status.idle": "2024-05-06T12:56:15.505314Z",
          "shell.execute_reply": "2024-05-06T12:56:15.505169Z",
          "shell.execute_reply.started": "2024-05-06T12:56:15.505157Z"
        },
        "id": "Rnc6JgD70W_a",
        "outputId": "e5e3a9bb-d7b6-4d57-f1ee-eb5d258e3ce3",
        "trusted": true
      },
      "outputs": [],
      "source": [
        "lstm_model = Sequential()\n",
        "\n",
        "lstm_model.add(\n",
        "    Embedding(vocab_size, 100, weights=[embedding_matrix], input_length=maxlen)\n",
        ")\n",
        "\n",
        "lstm_model.add(LSTM(units=128))\n",
        "\n",
        "lstm_model.add(Dense(units=1, activation=\"sigmoid\"))\n",
        "\n",
        "lstm_model.compile(loss=\"binary_crossentropy\", optimizer=\"adam\", metrics=[\"acc\"])\n",
        "\n",
        "history = lstm_model.fit(\n",
        "    X_train, y_train, epochs=6, batch_size=128, verbose=1, validation_split=0.2\n",
        ")"
      ]
    },
    {
      "cell_type": "code",
      "execution_count": null,
      "metadata": {
        "colab": {
          "base_uri": "https://localhost:8080/"
        },
        "execution": {
          "iopub.status.busy": "2024-05-06T12:56:15.506812Z",
          "iopub.status.idle": "2024-05-06T12:56:15.507112Z",
          "shell.execute_reply": "2024-05-06T12:56:15.506976Z",
          "shell.execute_reply.started": "2024-05-06T12:56:15.506963Z"
        },
        "id": "mcOhpdzp0W_d",
        "outputId": "ee1d6f89-15ae-4ae1-e7f5-c84ae89cac0c",
        "trusted": true
      },
      "outputs": [],
      "source": [
        "score = lstm_model.evaluate(X_test, y_test, verbose=1)\n",
        "print(\"Test Score:\", score[0])\n",
        "print(\"Test Accuracy:\", score[1])"
      ]
    },
    {
      "cell_type": "code",
      "execution_count": null,
      "metadata": {
        "colab": {
          "base_uri": "https://localhost:8080/",
          "height": 947
        },
        "execution": {
          "iopub.status.busy": "2024-05-06T12:56:15.508915Z",
          "iopub.status.idle": "2024-05-06T12:56:15.509351Z",
          "shell.execute_reply": "2024-05-06T12:56:15.509138Z",
          "shell.execute_reply.started": "2024-05-06T12:56:15.509121Z"
        },
        "id": "9VSjuIT-0W_e",
        "outputId": "0561005e-fba5-4f80-9b3d-5bf4ecccc42f",
        "trusted": true
      },
      "outputs": [],
      "source": [
        "plt.plot(history.history[\"acc\"])\n",
        "plt.plot(history.history[\"val_acc\"])\n",
        "plt.title(\"model accuracy\")\n",
        "plt.ylabel(\"accuracy\")\n",
        "plt.xlabel(\"epoch\")\n",
        "plt.legend([\"train\", \"test\"], loc=\"upper left\")\n",
        "plt.show()\n",
        "plt.plot(history.history[\"loss\"])\n",
        "plt.plot(history.history[\"val_loss\"])\n",
        "plt.title(\"model loss\")\n",
        "plt.ylabel(\"loss\")\n",
        "plt.xlabel(\"epoch\")\n",
        "plt.legend([\"train\", \"test\"], loc=\"upper left\")\n",
        "plt.show()"
      ]
    },
    {
      "cell_type": "markdown",
      "metadata": {
        "id": "yhJyqkvV0W_f"
      },
      "source": [
        "- l'accuracy du 1er classifieur (un simple réseau de neurones): 0.843999981880188\n",
        "- l'accuracy du 2eme classifieur (CNN): 0.8684999942779541\n",
        "- l'accuracy du 3eme classifieur (LSTM): 0.8684999942779541"
      ]
    },
    {
      "cell_type": "code",
      "execution_count": null,
      "metadata": {
        "colab": {
          "base_uri": "https://localhost:8080/"
        },
        "execution": {
          "iopub.status.busy": "2024-05-06T12:56:15.510908Z",
          "iopub.status.idle": "2024-05-06T12:56:15.511344Z",
          "shell.execute_reply": "2024-05-06T12:56:15.511133Z",
          "shell.execute_reply.started": "2024-05-06T12:56:15.511115Z"
        },
        "id": "89R2X7kw0W_g",
        "outputId": "a030c7ca-bd17-4c60-d758-204d2221f50a",
        "trusted": true
      },
      "outputs": [],
      "source": [
        "single_input_data = X_test[4]\n",
        "input_data = np.array([single_input_data])\n",
        "predicted_prob = lstm_model.predict(input_data)\n",
        "\n",
        "predicted_class = int(np.round(predicted_prob))\n",
        "\n",
        "print(\"Predicted Probability:\", predicted_prob)\n",
        "print(\"Predicted Class:\", predicted_class)\n",
        "print(\"correct Class:\", y_test[4])"
      ]
    },
    {
      "cell_type": "markdown",
      "metadata": {
        "id": "L5j9je5i0W_h"
      },
      "source": [
        "# Comparaison embedding / classifieur\n"
      ]
    },
    {
      "cell_type": "markdown",
      "metadata": {
        "id": "Ww3aUT5E0W_i"
      },
      "source": [
        "## Utils\n"
      ]
    },
    {
      "cell_type": "code",
      "execution_count": null,
      "metadata": {
        "execution": {
          "iopub.status.busy": "2024-05-06T12:56:15.512484Z",
          "iopub.status.idle": "2024-05-06T12:56:15.512835Z",
          "shell.execute_reply": "2024-05-06T12:56:15.512683Z",
          "shell.execute_reply.started": "2024-05-06T12:56:15.512665Z"
        },
        "id": "WV4lSV-m0W_i",
        "trusted": true
      },
      "outputs": [],
      "source": [
        "def plot_results(history):\n",
        "    plt.plot(history.history[\"acc\"])\n",
        "    plt.plot(history.history[\"val_acc\"])\n",
        "    plt.title(\"model accuracy\")\n",
        "    plt.ylabel(\"accuracy\")\n",
        "    plt.xlabel(\"epoch\")\n",
        "    plt.legend([\"train\", \"test\"], loc=\"upper left\")\n",
        "    plt.show()\n",
        "    plt.plot(history.history[\"loss\"])\n",
        "    plt.plot(history.history[\"val_loss\"])\n",
        "    plt.title(\"model loss\")\n",
        "    plt.ylabel(\"loss\")\n",
        "    plt.xlabel(\"epoch\")\n",
        "    plt.legend([\"train\", \"test\"], loc=\"upper left\")\n",
        "    plt.show()\n",
        "\n",
        "\n",
        "def evaluate_model(model):\n",
        "    score = model.evaluate(X_test, y_test, verbose=0)\n",
        "    print(\"Test Score:\", score[0])\n",
        "    print(\"Test Accuracy:\", score[1])"
      ]
    },
    {
      "cell_type": "markdown",
      "metadata": {
        "id": "ygTs_Wyl_C9W"
      },
      "source": [
        "## Models\n"
      ]
    },
    {
      "cell_type": "code",
      "execution_count": null,
      "metadata": {
        "execution": {
          "iopub.status.busy": "2024-05-06T12:56:15.515048Z",
          "iopub.status.idle": "2024-05-06T12:56:15.515358Z",
          "shell.execute_reply": "2024-05-06T12:56:15.515219Z",
          "shell.execute_reply.started": "2024-05-06T12:56:15.515201Z"
        },
        "id": "RMxinR480W_j",
        "trusted": true
      },
      "outputs": [],
      "source": [
        "from keras.layers import GRU\n",
        "\n",
        "from keras.callbacks import EarlyStopping\n",
        "\n",
        "\n",
        "def train_lstm(out_dim):\n",
        "    lstm_model = Sequential()\n",
        "\n",
        "    lstm_model.add(\n",
        "        Embedding(vocab_size, out_dim, weights=[embedding_matrix], input_length=maxlen)\n",
        "    )\n",
        "\n",
        "    lstm_model.add(LSTM(units=128))\n",
        "\n",
        "    lstm_model.add(Dense(units=1, activation=\"sigmoid\"))\n",
        "\n",
        "    lstm_model.compile(loss=\"binary_crossentropy\", optimizer=\"adam\", metrics=[\"acc\"])\n",
        "\n",
        "    early_stopping = EarlyStopping(\n",
        "        monitor=\"val_loss\", patience=3, restore_best_weights=True\n",
        "    )\n",
        "\n",
        "    history = lstm_model.fit(\n",
        "        X_train,\n",
        "        y_train,\n",
        "        epochs=6,\n",
        "        batch_size=128,\n",
        "        verbose=1,\n",
        "        validation_split=0.2,\n",
        "        callbacks=[early_stopping],\n",
        "    )\n",
        "\n",
        "    return lstm_model, history\n",
        "\n",
        "\n",
        "def train_cnn_rnn(out_dim):\n",
        "    model = Sequential()\n",
        "\n",
        "    model.add(\n",
        "        Embedding(vocab_size, out_dim, weights=[embedding_matrix], input_length=maxlen)\n",
        "    )\n",
        "\n",
        "    model.add(Conv1D(filters=128, kernel_size=5, activation=\"relu\"))\n",
        "\n",
        "    model.add(MaxPooling1D())\n",
        "    model.add(LSTM(units=128))\n",
        "\n",
        "    model.add(Flatten())\n",
        "\n",
        "    model.add(Dense(units=1, activation=\"sigmoid\"))\n",
        "\n",
        "    model.compile(loss=\"binary_crossentropy\", optimizer=\"adam\", metrics=[\"acc\"])\n",
        "\n",
        "    early_stopping = EarlyStopping(\n",
        "        monitor=\"val_loss\", patience=3, restore_best_weights=True\n",
        "    )\n",
        "\n",
        "    history = model.fit(\n",
        "        X_train,\n",
        "        y_train,\n",
        "        epochs=6,\n",
        "        batch_size=128,\n",
        "        verbose=1,\n",
        "        validation_split=0.2,\n",
        "        callbacks=[early_stopping],\n",
        "    )\n",
        "\n",
        "    return model, history\n",
        "\n",
        "\n",
        "def train_gru(out_dim):\n",
        "    model = Sequential()\n",
        "\n",
        "    model.add(\n",
        "        Embedding(vocab_size, out_dim, weights=[embedding_matrix], input_length=maxlen)\n",
        "    )\n",
        "\n",
        "    model.add(GRU(units=128))\n",
        "\n",
        "    model.add(Flatten())\n",
        "\n",
        "    model.add(Dense(units=1, activation=\"sigmoid\"))\n",
        "\n",
        "    model.compile(loss=\"binary_crossentropy\", optimizer=\"adam\", metrics=[\"acc\"])\n",
        "\n",
        "    early_stopping = EarlyStopping(\n",
        "        monitor=\"val_loss\", patience=3, restore_best_weights=True\n",
        "    )\n",
        "\n",
        "    history = model.fit(\n",
        "        X_train,\n",
        "        y_train,\n",
        "        epochs=6,\n",
        "        batch_size=128,\n",
        "        verbose=1,\n",
        "        validation_split=0.2,\n",
        "        callbacks=[early_stopping],\n",
        "    )\n",
        "\n",
        "    return model, history"
      ]
    },
    {
      "cell_type": "code",
      "execution_count": null,
      "metadata": {
        "execution": {
          "iopub.status.busy": "2024-05-06T12:56:15.516276Z",
          "iopub.status.idle": "2024-05-06T12:56:15.516594Z",
          "shell.execute_reply": "2024-05-06T12:56:15.51645Z",
          "shell.execute_reply.started": "2024-05-06T12:56:15.516437Z"
        },
        "id": "6SO2vjNj0W_k",
        "trusted": true
      },
      "outputs": [],
      "source": [
        "def experience(out_dim, train):\n",
        "    model, history = train(out_dim)\n",
        "    plot_results(history)\n",
        "    evaluate_model(model)"
      ]
    },
    {
      "cell_type": "code",
      "execution_count": null,
      "metadata": {
        "colab": {
          "base_uri": "https://localhost:8080/",
          "height": 1000
        },
        "execution": {
          "iopub.status.busy": "2024-05-06T12:56:15.517981Z",
          "iopub.status.idle": "2024-05-06T12:56:15.518318Z",
          "shell.execute_reply": "2024-05-06T12:56:15.518162Z",
          "shell.execute_reply.started": "2024-05-06T12:56:15.518148Z"
        },
        "id": "D1NKbuty0W_l",
        "outputId": "33c6f574-39f3-4e75-8450-61963261a883",
        "trusted": true
      },
      "outputs": [],
      "source": [
        "experience(100, train_cnn_rnn)"
      ]
    },
    {
      "cell_type": "code",
      "execution_count": null,
      "metadata": {
        "colab": {
          "base_uri": "https://localhost:8080/",
          "height": 1000
        },
        "execution": {
          "iopub.status.busy": "2024-05-06T12:56:15.519294Z",
          "iopub.status.idle": "2024-05-06T12:56:15.519613Z",
          "shell.execute_reply": "2024-05-06T12:56:15.519469Z",
          "shell.execute_reply.started": "2024-05-06T12:56:15.519455Z"
        },
        "id": "uPAufKlt46wK",
        "outputId": "c38bfb85-35a8-4dda-d017-f089b6988664",
        "trusted": true
      },
      "outputs": [],
      "source": [
        "experience(100, train_gru)"
      ]
    },
    {
      "cell_type": "markdown",
      "metadata": {
        "id": "ds9HPJCV5QHn"
      },
      "source": [
        "\n",
        "| Modèle    | Glove              |\n",
        "| --------- | ------------------ |\n",
        "| LSTM      | .8655 |\n",
        "| CNN + RNN | .8672 |\n",
        "| GRU       | .8768 |\n"
      ]
    },
    {
      "cell_type": "markdown",
      "metadata": {
        "id": "Ecam35LO56Rk"
      },
      "source": [
        "## word2vec\n"
      ]
    },
    {
      "cell_type": "code",
      "execution_count": null,
      "metadata": {
        "colab": {
          "base_uri": "https://localhost:8080/"
        },
        "execution": {
          "iopub.status.busy": "2024-05-06T12:56:15.520825Z",
          "iopub.status.idle": "2024-05-06T12:56:15.521145Z",
          "shell.execute_reply": "2024-05-06T12:56:15.521004Z",
          "shell.execute_reply.started": "2024-05-06T12:56:15.52099Z"
        },
        "id": "CTJtaE-a55ss",
        "outputId": "e7a88c83-b6c4-42ae-ba6d-f150e29688ad",
        "trusted": true
      },
      "outputs": [],
      "source": [
        "!wget https://media.githubusercontent.com/media/eyaler/word2vec-slim/master/GoogleNews-vectors-negative300-SLIM.bin.gz"
      ]
    },
    {
      "cell_type": "code",
      "execution_count": null,
      "metadata": {
        "execution": {
          "iopub.status.busy": "2024-05-06T12:56:15.5225Z",
          "iopub.status.idle": "2024-05-06T12:56:15.522847Z",
          "shell.execute_reply": "2024-05-06T12:56:15.522704Z",
          "shell.execute_reply.started": "2024-05-06T12:56:15.52269Z"
        },
        "id": "NiBISb796FMc",
        "trusted": true
      },
      "outputs": [],
      "source": [
        "!gunzip GoogleNews-vectors-negative300-SLIM.bin.gz\n"
      ]
    },
    {
      "cell_type": "code",
      "execution_count": null,
      "metadata": {
        "execution": {
          "iopub.status.busy": "2024-05-06T12:56:15.524184Z",
          "iopub.status.idle": "2024-05-06T12:56:15.524519Z",
          "shell.execute_reply": "2024-05-06T12:56:15.524375Z",
          "shell.execute_reply.started": "2024-05-06T12:56:15.524361Z"
        },
        "id": "NP25SvBQ6rqO",
        "trusted": true
      },
      "outputs": [],
      "source": [
        "from gensim.models import KeyedVectors\n",
        "\n",
        "# Load word2vec model\n",
        "word2vec_model = KeyedVectors.load_word2vec_format(\n",
        "    \"GoogleNews-vectors-negative300-SLIM.bin\", binary=True\n",
        ")\n",
        "\n",
        "# Create an empty dictionary to store word vectors\n",
        "embeddings_dictionary = {}\n",
        "\n",
        "# Iterate through the word2vec model vocabulary and store word vectors in the dictionary\n",
        "for word in word2vec_model.key_to_index:\n",
        "    embeddings_dictionary[word] = word2vec_model[word]\n",
        "\n",
        "# Initialize the embedding matrix with zeros\n",
        "embedding_matrix = zeros((vocab_size, word2vec_model.vector_size))\n",
        "\n",
        "# Iterate through tokenizer word index and update the embedding matrix with word vectors\n",
        "for word, index in tokenizer.word_index.items():\n",
        "    if word in embeddings_dictionary:\n",
        "        embedding_matrix[index] = embeddings_dictionary[word]"
      ]
    },
    {
      "cell_type": "code",
      "execution_count": null,
      "metadata": {
        "colab": {
          "base_uri": "https://localhost:8080/"
        },
        "execution": {
          "iopub.status.busy": "2024-05-06T12:56:15.525741Z",
          "iopub.status.idle": "2024-05-06T12:56:15.526045Z",
          "shell.execute_reply": "2024-05-06T12:56:15.525907Z",
          "shell.execute_reply.started": "2024-05-06T12:56:15.525895Z"
        },
        "id": "hAxJBaOO9ZrN",
        "outputId": "996f68c0-fc26-4b39-c141-58a76179e0d3",
        "trusted": true
      },
      "outputs": [],
      "source": [
        "from scipy.spatial.distance import cosine\n",
        "\n",
        "# Calculate cosine similarity between \"dog\" and \"cat\"\n",
        "dog_embedding = embedding_matrix[tokenizer.word_index[\"dog\"]]\n",
        "cat_embedding = embedding_matrix[tokenizer.word_index[\"cat\"]]\n",
        "similarity = 1 - cosine(dog_embedding, cat_embedding)\n",
        "print(f\"Similarity between 'dog' and 'cat': {similarity:.2f}\")"
      ]
    },
    {
      "cell_type": "code",
      "execution_count": null,
      "metadata": {
        "colab": {
          "base_uri": "https://localhost:8080/"
        },
        "execution": {
          "iopub.status.busy": "2024-05-06T12:56:15.527629Z",
          "iopub.status.idle": "2024-05-06T12:56:15.527983Z",
          "shell.execute_reply": "2024-05-06T12:56:15.527838Z",
          "shell.execute_reply.started": "2024-05-06T12:56:15.527824Z"
        },
        "id": "1dz50rcE-Fau",
        "outputId": "67244798-2b2f-495a-d3da-0463b53f97d7",
        "trusted": true
      },
      "outputs": [],
      "source": [
        "embedding_matrix.shape[1]"
      ]
    },
    {
      "cell_type": "code",
      "execution_count": null,
      "metadata": {
        "colab": {
          "base_uri": "https://localhost:8080/",
          "height": 1000
        },
        "execution": {
          "iopub.status.busy": "2024-05-06T12:56:15.529364Z",
          "iopub.status.idle": "2024-05-06T12:56:15.529717Z",
          "shell.execute_reply": "2024-05-06T12:56:15.529543Z",
          "shell.execute_reply.started": "2024-05-06T12:56:15.529529Z"
        },
        "id": "EO8k6Q5E-Xh5",
        "outputId": "ec8c6168-fb94-4455-93be-dc83ca8c7d62",
        "trusted": true
      },
      "outputs": [],
      "source": [
        "experience(embedding_matrix.shape[1], train_lstm)"
      ]
    },
    {
      "cell_type": "code",
      "execution_count": null,
      "metadata": {
        "colab": {
          "base_uri": "https://localhost:8080/",
          "height": 1000
        },
        "execution": {
          "iopub.status.busy": "2024-05-06T12:56:15.530895Z",
          "iopub.status.idle": "2024-05-06T12:56:15.531228Z",
          "shell.execute_reply": "2024-05-06T12:56:15.531076Z",
          "shell.execute_reply.started": "2024-05-06T12:56:15.531062Z"
        },
        "id": "jALiWXy6-giB",
        "outputId": "148c2deb-d582-4fa5-f221-60b25d05caa0",
        "trusted": true
      },
      "outputs": [],
      "source": [
        "experience(embedding_matrix.shape[1], train_cnn_rnn)"
      ]
    },
    {
      "cell_type": "code",
      "execution_count": null,
      "metadata": {
        "colab": {
          "base_uri": "https://localhost:8080/",
          "height": 1000
        },
        "execution": {
          "iopub.status.busy": "2024-05-06T12:56:15.532596Z",
          "iopub.status.idle": "2024-05-06T12:56:15.533029Z",
          "shell.execute_reply": "2024-05-06T12:56:15.53283Z",
          "shell.execute_reply.started": "2024-05-06T12:56:15.532813Z"
        },
        "id": "u_6FCQtm-js8",
        "outputId": "05041d3f-60d2-4282-9d2a-25d5e76d9754",
        "trusted": true
      },
      "outputs": [],
      "source": [
        "experience(embedding_matrix.shape[1], train_gru)"
      ]
    },
    {
      "cell_type": "markdown",
      "metadata": {
        "id": "2ytI-HiE-921"
      },
      "source": [
        "| Modèle    | Word2vec |\n",
        "| --------- | ----- |\n",
        "| LSTM      | 0.863 |\n",
        "| CNN + RNN | 0.872 |\n",
        "| GRU       | 0.861 |\n"
      ]
    },
    {
      "cell_type": "markdown",
      "metadata": {
        "id": "QHS6GPzE_8Z2"
      },
      "source": [
        "## [fasttext](https://www.kaggle.com/code/vsmolyakov/keras-cnn-with-fasttext-embeddings)\n"
      ]
    },
    {
      "cell_type": "code",
      "execution_count": null,
      "metadata": {
        "colab": {
          "base_uri": "https://localhost:8080/"
        },
        "execution": {
          "iopub.status.busy": "2024-05-06T12:56:15.53454Z",
          "iopub.status.idle": "2024-05-06T12:56:15.534955Z",
          "shell.execute_reply": "2024-05-06T12:56:15.534773Z",
          "shell.execute_reply.started": "2024-05-06T12:56:15.534757Z"
        },
        "id": "_1DtsYQl-lvy",
        "outputId": "845c5314-33a5-4a12-ee95-0b22560afb4d",
        "trusted": true
      },
      "outputs": [],
      "source": [
        "!wget https://dl.fbaipublicfiles.com/fasttext/vectors-wiki/wiki.en.vec"
      ]
    },
    {
      "cell_type": "code",
      "execution_count": null,
      "metadata": {
        "execution": {
          "iopub.status.busy": "2024-05-06T12:56:15.536435Z",
          "iopub.status.idle": "2024-05-06T12:56:15.5368Z",
          "shell.execute_reply": "2024-05-06T12:56:15.536616Z",
          "shell.execute_reply.started": "2024-05-06T12:56:15.536602Z"
        },
        "id": "XgwdUI-bCX4Z",
        "trusted": true
      },
      "outputs": [],
      "source": [
        "import codecs\n",
        "\n",
        "embeddings_dictionary = {}\n",
        "f = codecs.open(\"wiki.en.vec\", encoding=\"utf-8\")\n",
        "for line in f:\n",
        "    values = line.rstrip().rsplit(\" \")\n",
        "    word = values[0]\n",
        "    coef = np.asarray(values[1:], dtype=\"float32\")\n",
        "    embeddings_dictionary[word] = coef\n",
        "f.close()"
      ]
    },
    {
      "cell_type": "code",
      "execution_count": null,
      "metadata": {
        "execution": {
          "iopub.status.busy": "2024-05-06T12:56:15.537952Z",
          "iopub.status.idle": "2024-05-06T12:56:15.538276Z",
          "shell.execute_reply": "2024-05-06T12:56:15.538134Z",
          "shell.execute_reply.started": "2024-05-06T12:56:15.53812Z"
        },
        "id": "io7nSM_QsS9n",
        "trusted": true
      },
      "outputs": [],
      "source": [
        "embedding_matrix = zeros((vocab_size, 300))\n",
        "for word, index in tokenizer.word_index.items():\n",
        "    embedding_vector = embeddings_dictionary.get(word)\n",
        "    if embedding_vector is not None:\n",
        "        if embedding_vector.shape == (0,):\n",
        "            continue\n",
        "        embedding_matrix[index] = embedding_vector"
      ]
    },
    {
      "cell_type": "code",
      "execution_count": null,
      "metadata": {
        "colab": {
          "base_uri": "https://localhost:8080/"
        },
        "execution": {
          "iopub.status.busy": "2024-05-06T12:56:15.539313Z",
          "iopub.status.idle": "2024-05-06T12:56:15.539607Z",
          "shell.execute_reply": "2024-05-06T12:56:15.539471Z",
          "shell.execute_reply.started": "2024-05-06T12:56:15.539459Z"
        },
        "id": "SvM3rVvSuLSg",
        "outputId": "f8f45961-4466-4edb-ae5a-80af70c0973c",
        "trusted": true
      },
      "outputs": [],
      "source": [
        "embedding_matrix[200].shape"
      ]
    },
    {
      "cell_type": "code",
      "execution_count": null,
      "metadata": {
        "colab": {
          "base_uri": "https://localhost:8080/"
        },
        "execution": {
          "iopub.status.busy": "2024-05-06T12:56:15.541212Z",
          "iopub.status.idle": "2024-05-06T12:56:15.541662Z",
          "shell.execute_reply": "2024-05-06T12:56:15.541441Z",
          "shell.execute_reply.started": "2024-05-06T12:56:15.541424Z"
        },
        "id": "67VrylefuZDh",
        "outputId": "09528881-3c03-4739-a530-7119e29d45b9",
        "trusted": true
      },
      "outputs": [],
      "source": [
        "# Calculate cosine similarity between \"dog\" and \"cat\"\n",
        "dog_embedding = embedding_matrix[tokenizer.word_index[\"dog\"]]\n",
        "cat_embedding = embedding_matrix[tokenizer.word_index[\"cat\"]]\n",
        "similarity = 1 - cosine(dog_embedding, cat_embedding)\n",
        "print(f\"Similarity between 'dog' and 'cat': {similarity:.2f}\")"
      ]
    },
    {
      "cell_type": "code",
      "execution_count": null,
      "metadata": {
        "execution": {
          "iopub.status.busy": "2024-05-06T12:56:15.543041Z",
          "iopub.status.idle": "2024-05-06T12:56:15.543475Z",
          "shell.execute_reply": "2024-05-06T12:56:15.54327Z",
          "shell.execute_reply.started": "2024-05-06T12:56:15.543252Z"
        },
        "id": "DZEruGUmAhvF",
        "trusted": true
      },
      "outputs": [],
      "source": [
        "# import fasttext.util\n",
        "\n",
        "# fasttext.util.download_model('en', if_exists='ignore')\n",
        "# ft = fasttext.load_model('cc.en.300.bin')"
      ]
    },
    {
      "cell_type": "code",
      "execution_count": null,
      "metadata": {
        "colab": {
          "base_uri": "https://localhost:8080/",
          "height": 1000
        },
        "execution": {
          "iopub.status.busy": "2024-05-06T12:56:15.545282Z",
          "iopub.status.idle": "2024-05-06T12:56:15.545769Z",
          "shell.execute_reply": "2024-05-06T12:56:15.545502Z",
          "shell.execute_reply.started": "2024-05-06T12:56:15.545485Z"
        },
        "id": "fRqhjdoDDqz0",
        "outputId": "1cf59c0d-cca9-4cf5-d730-9e25390763b9",
        "trusted": true
      },
      "outputs": [],
      "source": [
        "experience(embedding_matrix.shape[1], train_lstm)"
      ]
    },
    {
      "cell_type": "code",
      "execution_count": null,
      "metadata": {
        "colab": {
          "base_uri": "https://localhost:8080/",
          "height": 1000
        },
        "execution": {
          "iopub.status.busy": "2024-05-06T12:56:15.547263Z",
          "iopub.status.idle": "2024-05-06T12:56:15.54771Z",
          "shell.execute_reply": "2024-05-06T12:56:15.547484Z",
          "shell.execute_reply.started": "2024-05-06T12:56:15.547466Z"
        },
        "id": "aOHoIhqEGrh_",
        "outputId": "4aebeb5c-c498-4582-a79c-48ae8b388951",
        "trusted": true
      },
      "outputs": [],
      "source": [
        "experience(embedding_matrix.shape[1], train_cnn_rnn)"
      ]
    },
    {
      "cell_type": "code",
      "execution_count": null,
      "metadata": {
        "colab": {
          "base_uri": "https://localhost:8080/",
          "height": 1000
        },
        "execution": {
          "iopub.status.busy": "2024-05-06T12:56:15.549791Z",
          "iopub.status.idle": "2024-05-06T12:56:15.550231Z",
          "shell.execute_reply": "2024-05-06T12:56:15.550018Z",
          "shell.execute_reply.started": "2024-05-06T12:56:15.55Z"
        },
        "id": "3czOo10wGu59",
        "outputId": "8dc31c79-31ea-48bc-ab5e-aab9a6c4303b",
        "trusted": true
      },
      "outputs": [],
      "source": [
        "experience(embedding_matrix.shape[1], train_gru)"
      ]
    },
    {
      "cell_type": "markdown",
      "metadata": {
        "id": "WYJykW72usoI"
      },
      "source": [
        "| Modèle    | FastText |\n",
        "| --------- | ----- |\n",
        "| LSTM      | 0.861 |\n",
        "| CNN + RNN | 0.873 |\n",
        "| GRU       | 0.874 |\n"
      ]
    },
    {
      "cell_type": "markdown",
      "metadata": {
        "id": "x4nYOXQRJWEI"
      },
      "source": [
        "## TF-IDF\n"
      ]
    },
    {
      "cell_type": "code",
      "execution_count": null,
      "metadata": {
        "execution": {
          "iopub.status.busy": "2024-05-06T12:56:15.551282Z",
          "iopub.status.idle": "2024-05-06T12:56:15.551722Z",
          "shell.execute_reply": "2024-05-06T12:56:15.551501Z",
          "shell.execute_reply.started": "2024-05-06T12:56:15.551483Z"
        },
        "id": "m9N-qjdMvxc8",
        "trusted": true
      },
      "outputs": [],
      "source": [
        "from sklearn.feature_extraction.text import TfidfVectorizer\n",
        "\n",
        "tfidf_vectorizer = TfidfVectorizer(max_features=1000)\n",
        "tfidf_matrix = tfidf_vectorizer.fit_transform(X)\n",
        "tfidf_matrix = tfidf_matrix.toarray()"
      ]
    },
    {
      "cell_type": "code",
      "execution_count": null,
      "metadata": {
        "colab": {
          "base_uri": "https://localhost:8080/"
        },
        "execution": {
          "iopub.status.busy": "2024-05-06T12:56:15.553152Z",
          "iopub.status.idle": "2024-05-06T12:56:15.553663Z",
          "shell.execute_reply": "2024-05-06T12:56:15.553408Z",
          "shell.execute_reply.started": "2024-05-06T12:56:15.553386Z"
        },
        "id": "UPErK-PywGxa",
        "outputId": "e1d3749a-8b80-4321-c5d1-0353cbc5e636",
        "trusted": true
      },
      "outputs": [],
      "source": [
        "tfidf_matrix[17].shape"
      ]
    },
    {
      "cell_type": "code",
      "execution_count": null,
      "metadata": {
        "execution": {
          "iopub.status.busy": "2024-05-06T12:56:15.55518Z",
          "iopub.status.idle": "2024-05-06T12:56:15.555621Z",
          "shell.execute_reply": "2024-05-06T12:56:15.555416Z",
          "shell.execute_reply.started": "2024-05-06T12:56:15.555398Z"
        },
        "id": "XjaTK0inwRgF",
        "trusted": true
      },
      "outputs": [],
      "source": [
        "X_train, X_test, y_train, y_test = train_test_split(\n",
        "    tfidf_matrix, y, test_size=0.2, random_state=42\n",
        ")"
      ]
    },
    {
      "cell_type": "code",
      "execution_count": null,
      "metadata": {
        "execution": {
          "iopub.status.busy": "2024-05-06T12:56:15.557131Z",
          "iopub.status.idle": "2024-05-06T12:56:15.557567Z",
          "shell.execute_reply": "2024-05-06T12:56:15.557361Z",
          "shell.execute_reply.started": "2024-05-06T12:56:15.557344Z"
        },
        "id": "TBsMmi-mJUYO",
        "trusted": true
      },
      "outputs": [],
      "source": [
        "from keras.layers import Reshape\n",
        "\n",
        "\n",
        "def train_lstm_with_tfidf(output_dim=128):\n",
        "    lstm_model = Sequential()\n",
        "    lstm_model.add(Dense(64, activation=\"relu\", input_shape=(X_train.shape[1],)))\n",
        "    lstm_model.add(Reshape((64, 1)))\n",
        "\n",
        "    lstm_model.add(LSTM(128))\n",
        "    lstm_model.add(Dense(1, activation=\"sigmoid\"))\n",
        "\n",
        "    lstm_model.compile(loss=\"binary_crossentropy\", optimizer=\"adam\", metrics=[\"acc\"])\n",
        "\n",
        "    early_stopping = EarlyStopping(\n",
        "        monitor=\"val_loss\", patience=3, restore_best_weights=True\n",
        "    )\n",
        "\n",
        "    history = lstm_model.fit(\n",
        "        X_train,\n",
        "        y_train,\n",
        "        epochs=6,\n",
        "        batch_size=128,\n",
        "        verbose=1,\n",
        "        validation_split=0.2,\n",
        "        callbacks=[early_stopping],\n",
        "        validation_data=(X_test, y_test),\n",
        "    )\n",
        "\n",
        "    return lstm_model, history\n",
        "\n",
        "\n",
        "def train_cnn_rnn_with_tfidf(output_dim=128):\n",
        "    model = Sequential()\n",
        "    model.add(Dense(64, activation=\"relu\", input_shape=(X_train.shape[1],)))\n",
        "    model.add(Reshape((64, 1)))\n",
        "    model.add(Conv1D(filters=128, kernel_size=5, activation=\"relu\"))\n",
        "    model.add(MaxPooling1D())\n",
        "    model.add(LSTM(units=128))\n",
        "    model.add(Flatten())\n",
        "    model.add(Dense(units=1, activation=\"sigmoid\"))\n",
        "\n",
        "    model.compile(loss=\"binary_crossentropy\", optimizer=\"adam\", metrics=[\"acc\"])\n",
        "\n",
        "    early_stopping = EarlyStopping(\n",
        "        monitor=\"val_loss\", patience=3, restore_best_weights=True\n",
        "    )\n",
        "\n",
        "    history = model.fit(\n",
        "        X_train,\n",
        "        y_train,\n",
        "        epochs=6,\n",
        "        batch_size=128,\n",
        "        verbose=1,\n",
        "        validation_split=0.2,\n",
        "        callbacks=[early_stopping],\n",
        "        validation_data=(X_test, y_test),\n",
        "    )\n",
        "\n",
        "    return model, history\n",
        "\n",
        "\n",
        "def train_gru_with_tfidf(output_dim=128):\n",
        "\n",
        "    model = Sequential()\n",
        "    model.add(Dense(64, activation=\"relu\", input_shape=(X_train.shape[1],)))\n",
        "    model.add(Reshape((64, 1)))\n",
        "    model.add(GRU(units=128))\n",
        "    model.add(Flatten())\n",
        "    model.add(Dense(units=1, activation=\"sigmoid\"))\n",
        "\n",
        "    model.compile(loss=\"binary_crossentropy\", optimizer=\"adam\", metrics=[\"acc\"])\n",
        "\n",
        "    early_stopping = EarlyStopping(\n",
        "        monitor=\"val_loss\", patience=3, restore_best_weights=True\n",
        "    )\n",
        "\n",
        "    history = model.fit(\n",
        "        X_train,\n",
        "        y_train,\n",
        "        epochs=6,\n",
        "        batch_size=128,\n",
        "        verbose=1,\n",
        "        validation_split=0.2,\n",
        "        callbacks=[early_stopping],\n",
        "        validation_data=(X_test, y_test),\n",
        "    )\n",
        "\n",
        "    return model, history"
      ]
    },
    {
      "cell_type": "markdown",
      "metadata": {
        "id": "bQZZQe2nBYKL"
      },
      "source": [
        "The embedding layer is typically used when dealing with text data where words are represented as discrete categorical variables. It transforms these variables into continuous vectors that capture semantic meaning. However, in our case, we’re using TF-IDF vectors as input, which are already continuous and capture some level of semantic meaning. Therefore, the embedding layer might not be necessary and could even distort the TF-IDF features.\n"
      ]
    },
    {
      "cell_type": "code",
      "execution_count": null,
      "metadata": {
        "colab": {
          "base_uri": "https://localhost:8080/"
        },
        "execution": {
          "iopub.status.busy": "2024-05-06T12:56:15.558663Z",
          "iopub.status.idle": "2024-05-06T12:56:15.559082Z",
          "shell.execute_reply": "2024-05-06T12:56:15.558882Z",
          "shell.execute_reply.started": "2024-05-06T12:56:15.558865Z"
        },
        "id": "RKW2vZNrx1Sg",
        "outputId": "fb1c1037-d3fb-460f-cf15-d41caab91fea",
        "trusted": true
      },
      "outputs": [],
      "source": [
        "model, history = train_lstm_with_tfidf(128)"
      ]
    },
    {
      "cell_type": "code",
      "execution_count": null,
      "metadata": {
        "colab": {
          "base_uri": "https://localhost:8080/"
        },
        "execution": {
          "iopub.status.busy": "2024-05-06T12:56:15.560289Z",
          "iopub.status.idle": "2024-05-06T12:56:15.56073Z",
          "shell.execute_reply": "2024-05-06T12:56:15.560507Z",
          "shell.execute_reply.started": "2024-05-06T12:56:15.560491Z"
        },
        "id": "Eky-TrYV0fNo",
        "outputId": "889d9849-9a2f-4d29-efcb-cd64e79bbc8e",
        "trusted": true
      },
      "outputs": [],
      "source": [
        "score = model.evaluate(X_test, y_test, verbose=1)\n",
        "print(\"Test Score:\", score[0])\n",
        "print(\"Test Accuracy:\", score[1])"
      ]
    },
    {
      "cell_type": "code",
      "execution_count": null,
      "metadata": {
        "execution": {
          "iopub.status.busy": "2024-05-06T12:56:15.561687Z",
          "iopub.status.idle": "2024-05-06T12:56:15.562099Z",
          "shell.execute_reply": "2024-05-06T12:56:15.5619Z",
          "shell.execute_reply.started": "2024-05-06T12:56:15.561883Z"
        },
        "id": "OV6kFSgRBYKO",
        "trusted": true
      },
      "outputs": [],
      "source": [
        "from keras.layers import Conv1D, MaxPooling1D"
      ]
    },
    {
      "cell_type": "code",
      "execution_count": null,
      "metadata": {
        "colab": {
          "base_uri": "https://localhost:8080/"
        },
        "execution": {
          "iopub.status.busy": "2024-05-06T12:56:15.5638Z",
          "iopub.status.idle": "2024-05-06T12:56:15.564128Z",
          "shell.execute_reply": "2024-05-06T12:56:15.563982Z",
          "shell.execute_reply.started": "2024-05-06T12:56:15.563969Z"
        },
        "id": "LEMIjKZkBYKO",
        "outputId": "64c63f57-15c0-4c14-f3a9-fc149a201b82",
        "trusted": true
      },
      "outputs": [],
      "source": [
        "model, history = train_cnn_rnn_with_tfidf(128)\n",
        "score = model.evaluate(X_test, y_test, verbose=1)\n",
        "print(\"Test Score:\", score[0])\n",
        "print(\"Test Accuracy:\", score[1])"
      ]
    },
    {
      "cell_type": "code",
      "execution_count": null,
      "metadata": {
        "colab": {
          "base_uri": "https://localhost:8080/"
        },
        "execution": {
          "iopub.status.busy": "2024-05-06T12:56:15.565516Z",
          "iopub.status.idle": "2024-05-06T12:56:15.565924Z",
          "shell.execute_reply": "2024-05-06T12:56:15.565763Z",
          "shell.execute_reply.started": "2024-05-06T12:56:15.565748Z"
        },
        "id": "bmbHvi4pBYKO",
        "outputId": "5d1272ed-3933-4255-ba70-8828693f62ee",
        "trusted": true
      },
      "outputs": [],
      "source": [
        "model, history = train_gru_with_tfidf(128)\n",
        "score = model.evaluate(X_test, y_test, verbose=1)\n",
        "print(\"Test Score:\", score[0])\n",
        "print(\"Test Accuracy:\", score[1])"
      ]
    },
    {
      "cell_type": "markdown",
      "metadata": {
        "id": "W1Fk0NwaBYKP"
      },
      "source": [
        "| Modèle    | Score              |\n",
        "| --------- | ------------------ |\n",
        "| LSTM      | 0.8693000078201294 |\n",
        "| CNN + RNN | 0.8691999912261963 |\n",
        "| GRU       | 0.8708000183105469 |\n"
      ]
    },
    {
      "cell_type": "markdown",
      "metadata": {},
      "source": [
        "| Modèle    | Glove  | Word2vec | FastText | tf-idf  |\n",
        "| --------- | ------ | -------- | -------- | ------- |\n",
        "| LSTM      | .8655  | 0.863    | 0.861    | **0.8693**  |\n",
        "| CNN + RNN | .8672  | 0.872    | **0.873**    | 0.8692  |\n",
        "| GRU       | **.8768**  | 0.861    | 0.874   | 0.8708  |"
      ]
    },
    {
      "cell_type": "markdown",
      "metadata": {},
      "source": [
        "GRU combined with Glove embeddings appears to be the most effective combination based on the provided results."
      ]
    }
  ],
  "metadata": {
    "accelerator": "GPU",
    "colab": {
      "gpuType": "T4",
      "name": "Lab 4",
      "provenance": []
    },
    "kaggle": {
      "accelerator": "nvidiaTeslaT4",
      "dataSources": [],
      "dockerImageVersionId": 30699,
      "isGpuEnabled": true,
      "isInternetEnabled": true,
      "language": "python",
      "sourceType": "notebook"
    },
    "kernelspec": {
      "display_name": "Python 3",
      "language": "python",
      "name": "python3"
    },
    "language_info": {
      "codemirror_mode": {
        "name": "ipython",
        "version": 3
      },
      "file_extension": ".py",
      "mimetype": "text/x-python",
      "name": "python",
      "nbconvert_exporter": "python",
      "pygments_lexer": "ipython3",
      "version": "3.11.9"
    }
  },
  "nbformat": 4,
  "nbformat_minor": 0
}
